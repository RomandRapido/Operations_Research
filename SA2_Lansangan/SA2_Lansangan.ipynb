{
 "cells": [
  {
   "cell_type": "code",
   "execution_count": 1,
   "id": "9eef54b8",
   "metadata": {},
   "outputs": [],
   "source": [
    "import pandas as pd"
   ]
  },
  {
   "cell_type": "code",
   "execution_count": 56,
   "id": "5638ff88",
   "metadata": {},
   "outputs": [],
   "source": [
    "df_high_price = pd.DataFrame({\n",
    "    'Sales': [50000, 30000, 20000],\n",
    "    'High': [0.2, 0.25, 0.55],\n",
    "    'Medium': [0.25, 0.3, 0.45],\n",
    "    'Low': [0.3, 0.35, 0.35]\n",
    "})\n",
    "df_medium_price = pd.DataFrame({\n",
    "    'Sales': [50000, 30000, 20000],\n",
    "    'High': [0.25, 0.35, 0.40],\n",
    "    'Medium': [0.30, 0.40, 0.30],\n",
    "    'Low': [0.40, 0.50, 0.10]\n",
    "})\n",
    "df_low_price = pd.DataFrame({\n",
    "    'Sales': [50000, 30000, 20000],\n",
    "    'High': [0.35, 0.40, 0.25],\n",
    "    'Medium': [0.40, 0.50, 0.10],\n",
    "    'Low': [0.50, 0.45, 0.05]\n",
    "})\n",
    "sales_dfs = {\n",
    "    \"Low\": df_low_price,\n",
    "    \"High\" : df_high_price,\n",
    "    \"Medium\" : df_medium_price\n",
    "}\n",
    "price = {\n",
    "    \"Low\" : 30,\n",
    "    \"Medium\" : 40,\n",
    "    \"High\" : 50\n",
    "}\n",
    "compe_prob = {\n",
    "    \"Low\" : 0.1,\n",
    "    \"Medium\" : 0.7,\n",
    "    \"High\" : 0.2\n",
    "}"
   ]
  },
  {
   "cell_type": "markdown",
   "id": "b026b600",
   "metadata": {},
   "source": [
    "## First Fold\n",
    "\n",
    "Competion Focused"
   ]
  },
  {
   "cell_type": "code",
   "execution_count": 57,
   "id": "23e18511",
   "metadata": {},
   "outputs": [
    {
     "data": {
      "text/plain": [
       "{'Low_price': {'Low_compe': 39500.0,\n",
       "  'Medium_compe': 37000.0,\n",
       "  'High_compe': 34500.0},\n",
       " 'High_price': {'Low_compe': 32500.0,\n",
       "  'Medium_compe': 30500.0,\n",
       "  'High_compe': 28500.0},\n",
       " 'Medium_price': {'Low_compe': 37000.0,\n",
       "  'Medium_compe': 33000.0,\n",
       "  'High_compe': 31000.0}}"
      ]
     },
     "execution_count": 57,
     "metadata": {},
     "output_type": "execute_result"
    }
   ],
   "source": [
    "fold_first_compe = {}\n",
    "for keys,df_sale in sales_dfs.items():\n",
    "    temp = {}\n",
    "    for fold_col in price.keys():\n",
    "        df_sale[f'1st_fold_{fold_col}Comp'] = df_sale.loc[:,fold_col] * df_sale.loc[:,'Sales']\n",
    "        temp[f'{fold_col}_compe'] = df_sale[f'1st_fold_{fold_col}Comp'].sum()\n",
    "    fold_first_compe[f'{keys}_price'] = temp\n",
    "\n",
    "fold_first_compe"
   ]
  },
  {
   "cell_type": "markdown",
   "id": "9d698318",
   "metadata": {},
   "source": []
  },
  {
   "cell_type": "markdown",
   "id": "781358a8",
   "metadata": {},
   "source": [
    "# Second Fold\n",
    "Unit Sold focused"
   ]
  },
  {
   "cell_type": "code",
   "execution_count": null,
   "id": "9215cfbe",
   "metadata": {},
   "outputs": [
    {
     "data": {
      "text/plain": [
       "{'Low_price': 36750.0, 'High_price': 30300.0, 'Medium_price': 33000.0}"
      ]
     },
     "execution_count": 59,
     "metadata": {},
     "output_type": "execute_result"
    }
   ],
   "source": [
    "sec_fold = {}\n",
    "for key_price, item_price in fold_first_compe.items():\n",
    "    sum = 0\n",
    "    for key_compe, item_compe in  item_price.items():\n",
    "        stats_compe = key_compe.split(\"_\")[0]\n",
    "        sum += compe_prob[stats_compe]*item_compe\n",
    "    sec_fold[key_price] = sum\n",
    "sec_fold"
   ]
  },
  {
   "cell_type": "markdown",
   "id": "6e90581b",
   "metadata": {},
   "source": [
    "## Third Fold\n",
    "Profit"
   ]
  },
  {
   "cell_type": "code",
   "execution_count": 69,
   "id": "d614d1d1",
   "metadata": {},
   "outputs": [
    {
     "name": "stdout",
     "output_type": "stream",
     "text": [
      "36750.0 unit X $30 = $1102500.0\n",
      "30300.0 unit X $50 = $1515000.0\n",
      "33000.0 unit X $40 = $1320000.0\n"
     ]
    },
    {
     "data": {
      "text/plain": [
       "{'Low_price': 1102500.0, 'High_price': 1515000.0, 'Medium_price': 1320000.0}"
      ]
     },
     "execution_count": 69,
     "metadata": {},
     "output_type": "execute_result"
    }
   ],
   "source": [
    "thir_fold = {}\n",
    "for key_price, unit_sold in sec_fold.items():\n",
    "    stats_price = key_price.split(\"_\")[0]\n",
    "    print(f\"{unit_sold} unit X ${price[stats_price]} = ${unit_sold* price[stats_price]}\")\n",
    "    thir_fold[key_price] = unit_sold* price[stats_price]\n",
    "thir_fold"
   ]
  },
  {
   "cell_type": "code",
   "execution_count": 72,
   "id": "f50675c9",
   "metadata": {},
   "outputs": [
    {
     "name": "stdout",
     "output_type": "stream",
     "text": [
      "Optimal Decision: High_price with 1515000.0\n"
     ]
    }
   ],
   "source": [
    "import numpy as np\n",
    "max_key = 0\n",
    "max_val = 0\n",
    "\n",
    "for key_price, item_profit in thir_fold.items():\n",
    "    if item_profit > max_val:\n",
    "        max_val = item_profit\n",
    "        max_key = key_price\n",
    "\n",
    "print(f\"Optimal Decision: {max_key} with {max_val}\" )"
   ]
  },
  {
   "cell_type": "markdown",
   "id": "778d2a7f",
   "metadata": {},
   "source": [
    "---\n",
    "## Research or No\n",
    "For no, retain score above.\n",
    "For yes,...\n"
   ]
  },
  {
   "cell_type": "code",
   "execution_count": 61,
   "id": "dfc0e3bf",
   "metadata": {},
   "outputs": [
    {
     "data": {
      "text/html": [
       "<div>\n",
       "<style scoped>\n",
       "    .dataframe tbody tr th:only-of-type {\n",
       "        vertical-align: middle;\n",
       "    }\n",
       "\n",
       "    .dataframe tbody tr th {\n",
       "        vertical-align: top;\n",
       "    }\n",
       "\n",
       "    .dataframe thead th {\n",
       "        text-align: right;\n",
       "    }\n",
       "</style>\n",
       "<table border=\"1\" class=\"dataframe\">\n",
       "  <thead>\n",
       "    <tr style=\"text-align: right;\">\n",
       "      <th></th>\n",
       "      <th>hC</th>\n",
       "      <th>mC</th>\n",
       "      <th>lC</th>\n",
       "    </tr>\n",
       "  </thead>\n",
       "  <tbody>\n",
       "    <tr>\n",
       "      <th>P-hC</th>\n",
       "      <td>0.80</td>\n",
       "      <td>0.15</td>\n",
       "      <td>0.03</td>\n",
       "    </tr>\n",
       "    <tr>\n",
       "      <th>P-mC</th>\n",
       "      <td>0.15</td>\n",
       "      <td>0.80</td>\n",
       "      <td>0.07</td>\n",
       "    </tr>\n",
       "    <tr>\n",
       "      <th>P-lC</th>\n",
       "      <td>0.05</td>\n",
       "      <td>0.05</td>\n",
       "      <td>0.90</td>\n",
       "    </tr>\n",
       "  </tbody>\n",
       "</table>\n",
       "</div>"
      ],
      "text/plain": [
       "        hC    mC    lC\n",
       "P-hC  0.80  0.15  0.03\n",
       "P-mC  0.15  0.80  0.07\n",
       "P-lC  0.05  0.05  0.90"
      ]
     },
     "execution_count": 61,
     "metadata": {},
     "output_type": "execute_result"
    }
   ],
   "source": [
    "df_research_prob = pd.DataFrame({\n",
    "    \"hC\" : [0.80, 0.15, 0.05],\n",
    "    \"mC\" : [0.15,0.80, 0.05],\n",
    "    \"lC\" : [0.03,0.07, 0.90]\n",
    "}, index=[\"P-hC\", \"P-mC\", \"P-lC\"])\n",
    "df_research_prob"
   ]
  },
  {
   "cell_type": "code",
   "execution_count": 62,
   "id": "2aa8e550",
   "metadata": {},
   "outputs": [
    {
     "data": {
      "text/plain": [
       "{'Low': 0.1, 'Medium': 0.7, 'High': 0.2}"
      ]
     },
     "execution_count": 62,
     "metadata": {},
     "output_type": "execute_result"
    }
   ],
   "source": [
    "compe_prob"
   ]
  },
  {
   "cell_type": "code",
   "execution_count": 63,
   "id": "f9999534",
   "metadata": {},
   "outputs": [
    {
     "data": {
      "text/plain": [
       "array([0.2, 0.7, 0.1])"
      ]
     },
     "execution_count": 63,
     "metadata": {},
     "output_type": "execute_result"
    }
   ],
   "source": [
    "compe_prob_vals = np.array(list(compe_prob.values()))[::-1]\n",
    "compe_prob_vals"
   ]
  },
  {
   "cell_type": "code",
   "execution_count": 64,
   "id": "7a12fce8",
   "metadata": {},
   "outputs": [
    {
     "data": {
      "text/html": [
       "<div>\n",
       "<style scoped>\n",
       "    .dataframe tbody tr th:only-of-type {\n",
       "        vertical-align: middle;\n",
       "    }\n",
       "\n",
       "    .dataframe tbody tr th {\n",
       "        vertical-align: top;\n",
       "    }\n",
       "\n",
       "    .dataframe thead th {\n",
       "        text-align: right;\n",
       "    }\n",
       "</style>\n",
       "<table border=\"1\" class=\"dataframe\">\n",
       "  <thead>\n",
       "    <tr style=\"text-align: right;\">\n",
       "      <th></th>\n",
       "      <th>hc</th>\n",
       "      <th>mc</th>\n",
       "      <th>lc</th>\n",
       "    </tr>\n",
       "  </thead>\n",
       "  <tbody>\n",
       "    <tr>\n",
       "      <th>P-hC</th>\n",
       "      <td>0.16</td>\n",
       "      <td>0.105</td>\n",
       "      <td>0.003</td>\n",
       "    </tr>\n",
       "    <tr>\n",
       "      <th>P-mC</th>\n",
       "      <td>0.03</td>\n",
       "      <td>0.560</td>\n",
       "      <td>0.007</td>\n",
       "    </tr>\n",
       "    <tr>\n",
       "      <th>P-lC</th>\n",
       "      <td>0.01</td>\n",
       "      <td>0.035</td>\n",
       "      <td>0.090</td>\n",
       "    </tr>\n",
       "  </tbody>\n",
       "</table>\n",
       "</div>"
      ],
      "text/plain": [
       "        hc     mc     lc\n",
       "P-hC  0.16  0.105  0.003\n",
       "P-mC  0.03  0.560  0.007\n",
       "P-lC  0.01  0.035  0.090"
      ]
     },
     "execution_count": 64,
     "metadata": {},
     "output_type": "execute_result"
    }
   ],
   "source": [
    "Preds_prob = df_research_prob.apply(lambda X: X.values * compe_prob_vals, axis=1)\n",
    "Preds_prob = pd.DataFrame(Preds_prob.to_dict(), index=['hc', 'mc', 'lc']).T\n",
    "Preds_prob"
   ]
  },
  {
   "cell_type": "code",
   "execution_count": 53,
   "id": "48757aa1",
   "metadata": {},
   "outputs": [
    {
     "data": {
      "text/plain": [
       "P-hC    0.268\n",
       "P-mC    0.597\n",
       "P-lC    0.135\n",
       "dtype: float64"
      ]
     },
     "execution_count": 53,
     "metadata": {},
     "output_type": "execute_result"
    }
   ],
   "source": [
    "preds_total_preds = Preds_prob.sum(axis=1)\n",
    "preds_total_preds"
   ]
  },
  {
   "cell_type": "code",
   "execution_count": 54,
   "id": "f29360e4",
   "metadata": {},
   "outputs": [
    {
     "data": {
      "text/html": [
       "<div>\n",
       "<style scoped>\n",
       "    .dataframe tbody tr th:only-of-type {\n",
       "        vertical-align: middle;\n",
       "    }\n",
       "\n",
       "    .dataframe tbody tr th {\n",
       "        vertical-align: top;\n",
       "    }\n",
       "\n",
       "    .dataframe thead th {\n",
       "        text-align: right;\n",
       "    }\n",
       "</style>\n",
       "<table border=\"1\" class=\"dataframe\">\n",
       "  <thead>\n",
       "    <tr style=\"text-align: right;\">\n",
       "      <th></th>\n",
       "      <th>P-hC</th>\n",
       "      <th>P-mC</th>\n",
       "      <th>P-lC</th>\n",
       "    </tr>\n",
       "  </thead>\n",
       "  <tbody>\n",
       "    <tr>\n",
       "      <th>hc</th>\n",
       "      <td>0.597015</td>\n",
       "      <td>0.050251</td>\n",
       "      <td>0.074074</td>\n",
       "    </tr>\n",
       "    <tr>\n",
       "      <th>mc</th>\n",
       "      <td>0.391791</td>\n",
       "      <td>0.938023</td>\n",
       "      <td>0.259259</td>\n",
       "    </tr>\n",
       "    <tr>\n",
       "      <th>lc</th>\n",
       "      <td>0.011194</td>\n",
       "      <td>0.011725</td>\n",
       "      <td>0.666667</td>\n",
       "    </tr>\n",
       "  </tbody>\n",
       "</table>\n",
       "</div>"
      ],
      "text/plain": [
       "        P-hC      P-mC      P-lC\n",
       "hc  0.597015  0.050251  0.074074\n",
       "mc  0.391791  0.938023  0.259259\n",
       "lc  0.011194  0.011725  0.666667"
      ]
     },
     "execution_count": 54,
     "metadata": {},
     "output_type": "execute_result"
    }
   ],
   "source": [
    "bayesian = Preds_prob.apply(lambda X: X.values /preds_total_preds[X.name], axis=1).to_dict()\n",
    "bayesian_df = pd.DataFrame(bayesian, index=['hc', 'mc', 'lc'])\n",
    "bayesian_df"
   ]
  },
  {
   "cell_type": "markdown",
   "id": "a1ec2bc0",
   "metadata": {},
   "source": [
    "## Research First Fold"
   ]
  },
  {
   "cell_type": "code",
   "execution_count": null,
   "id": "10293343",
   "metadata": {},
   "outputs": [
    {
     "data": {
      "text/plain": [
       "array([28500., 30500., 32500.])"
      ]
     },
     "execution_count": 83,
     "metadata": {},
     "output_type": "execute_result"
    }
   ],
   "source": []
  },
  {
   "cell_type": "code",
   "execution_count": 84,
   "id": "e5d80489",
   "metadata": {},
   "outputs": [
    {
     "data": {
      "text/plain": [
       "hc    28500.0\n",
       "mc    30500.0\n",
       "lc    32500.0\n",
       "dtype: float64"
      ]
     },
     "execution_count": 84,
     "metadata": {},
     "output_type": "execute_result"
    }
   ],
   "source": [
    "sales_count = pd.Series(np.array(list(fold_first_compe['High_price'].values()))[::-1], index=['hc', 'mc', 'lc'])\n",
    "sales_count"
   ]
  },
  {
   "cell_type": "code",
   "execution_count": 91,
   "id": "28441bf0",
   "metadata": {},
   "outputs": [
    {
     "data": {
      "text/html": [
       "<div>\n",
       "<style scoped>\n",
       "    .dataframe tbody tr th:only-of-type {\n",
       "        vertical-align: middle;\n",
       "    }\n",
       "\n",
       "    .dataframe tbody tr th {\n",
       "        vertical-align: top;\n",
       "    }\n",
       "\n",
       "    .dataframe thead th {\n",
       "        text-align: right;\n",
       "    }\n",
       "</style>\n",
       "<table border=\"1\" class=\"dataframe\">\n",
       "  <thead>\n",
       "    <tr style=\"text-align: right;\">\n",
       "      <th></th>\n",
       "      <th>hc</th>\n",
       "      <th>mc</th>\n",
       "      <th>lc</th>\n",
       "    </tr>\n",
       "  </thead>\n",
       "  <tbody>\n",
       "    <tr>\n",
       "      <th>P-hC</th>\n",
       "      <td>0.597015</td>\n",
       "      <td>0.391791</td>\n",
       "      <td>0.011194</td>\n",
       "    </tr>\n",
       "    <tr>\n",
       "      <th>P-mC</th>\n",
       "      <td>0.050251</td>\n",
       "      <td>0.938023</td>\n",
       "      <td>0.011725</td>\n",
       "    </tr>\n",
       "    <tr>\n",
       "      <th>P-lC</th>\n",
       "      <td>0.074074</td>\n",
       "      <td>0.259259</td>\n",
       "      <td>0.666667</td>\n",
       "    </tr>\n",
       "  </tbody>\n",
       "</table>\n",
       "</div>"
      ],
      "text/plain": [
       "            hc        mc        lc\n",
       "P-hC  0.597015  0.391791  0.011194\n",
       "P-mC  0.050251  0.938023  0.011725\n",
       "P-lC  0.074074  0.259259  0.666667"
      ]
     },
     "execution_count": 91,
     "metadata": {},
     "output_type": "execute_result"
    }
   ],
   "source": [
    "bayesian_trans = bayesian_df.T\n",
    "bayesian_trans"
   ]
  },
  {
   "cell_type": "code",
   "execution_count": 93,
   "id": "4fcb79d9",
   "metadata": {},
   "outputs": [
    {
     "data": {
      "text/plain": [
       "P-hC    29328.358209\n",
       "P-mC    30422.948074\n",
       "P-lC    31685.185185\n",
       "dtype: float64"
      ]
     },
     "execution_count": 93,
     "metadata": {},
     "output_type": "execute_result"
    }
   ],
   "source": [
    "first_fold_res = pd.Series(bayesian_trans.values @ sales_count.values, index=bayesian_trans.index)\n",
    "first_fold_res"
   ]
  },
  {
   "cell_type": "markdown",
   "id": "f8f8c375",
   "metadata": {},
   "source": [
    "## Second Fold (Research)"
   ]
  },
  {
   "cell_type": "code",
   "execution_count": 97,
   "id": "8d568afa",
   "metadata": {},
   "outputs": [
    {
     "data": {
      "text/plain": [
       "P-hC     7860.0\n",
       "P-mC    18162.5\n",
       "P-lC     4277.5\n",
       "dtype: float64"
      ]
     },
     "execution_count": 97,
     "metadata": {},
     "output_type": "execute_result"
    }
   ],
   "source": [
    "sec_fold = preds_total_preds * first_fold_res\n",
    "sec_fold"
   ]
  },
  {
   "cell_type": "code",
   "execution_count": 99,
   "id": "edbd1d76",
   "metadata": {},
   "outputs": [
    {
     "data": {
      "text/plain": [
       "30299.999999999996"
      ]
     },
     "execution_count": 99,
     "metadata": {},
     "output_type": "execute_result"
    }
   ],
   "source": [
    "R_hP =  sec_fold.sum()\n",
    "R_hP"
   ]
  }
 ],
 "metadata": {
  "kernelspec": {
   "display_name": "venv",
   "language": "python",
   "name": "venv"
  },
  "language_info": {
   "codemirror_mode": {
    "name": "ipython",
    "version": 3
   },
   "file_extension": ".py",
   "mimetype": "text/x-python",
   "name": "python",
   "nbconvert_exporter": "python",
   "pygments_lexer": "ipython3",
   "version": "3.12.3"
  }
 },
 "nbformat": 4,
 "nbformat_minor": 5
}
